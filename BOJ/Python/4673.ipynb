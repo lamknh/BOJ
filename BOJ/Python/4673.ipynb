{
 "cells": [
  {
   "cell_type": "code",
   "execution_count": 9,
   "metadata": {},
   "outputs": [
    {
     "name": "stdout",
     "output_type": "stream",
     "text": [
      "857\n"
     ]
    }
   ],
   "source": [
    "n = 0\n",
    "for i in range(1, 1000):\n",
    "    while (i):\n",
    "        if(i == 1 or i == 89):\n",
    "            break\n",
    "        else :\n",
    "            hund = i // 100\n",
    "            ten  = (i - hund * 100) // 10\n",
    "            i = hund ** 2 + ten ** 2 + (i - hund * 100 - ten * 10) ** 2\n",
    "    if(i == 89):\n",
    "        n += 1\n",
    "print(n)"
   ]
  },
  {
   "cell_type": "code",
   "execution_count": null,
   "metadata": {},
   "outputs": [],
   "source": []
  }
 ],
 "metadata": {
  "kernelspec": {
   "display_name": "Python 3",
   "language": "python",
   "name": "python3"
  },
  "language_info": {
   "codemirror_mode": {
    "name": "ipython",
    "version": 3
   },
   "file_extension": ".py",
   "mimetype": "text/x-python",
   "name": "python",
   "nbconvert_exporter": "python",
   "pygments_lexer": "ipython3",
   "version": "3.8.3"
  }
 },
 "nbformat": 4,
 "nbformat_minor": 4
}
